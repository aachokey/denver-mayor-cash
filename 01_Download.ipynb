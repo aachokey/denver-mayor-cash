{
 "cells": [
  {
   "cell_type": "markdown",
   "id": "9274e08a",
   "metadata": {},
   "source": [
    "# Download data"
   ]
  },
  {
   "cell_type": "markdown",
   "id": "15084370",
   "metadata": {},
   "source": [
    "A python function to download the most recent data from the Denver Elections Office for the 2023 Municipal Election."
   ]
  },
  {
   "cell_type": "code",
   "execution_count": 4,
   "id": "217c3e3e",
   "metadata": {},
   "outputs": [],
   "source": [
    "import csv\n",
    "\n",
    "import pandas as pd\n",
    "import requests"
   ]
  },
  {
   "cell_type": "code",
   "execution_count": 5,
   "id": "fa844536",
   "metadata": {},
   "outputs": [
    {
     "name": "stdout",
     "output_type": "stream",
     "text": [
      "['transactionId', 'transactionType', 'transactionSubType', 'recipientName', 'recipientCommitteeName', 'recipientCommitteeId', 'officeSought', 'district', 'ballotIssue', 'contributorName', 'contributorId', 'amount', 'date', 'contributorEmployer', 'contributorOccupation', 'contributorCity', 'contributorStateCode', 'contactTypeId', 'committeeTypeId', 'transactionSubTypeId', 'filerTypeId', 'zipCode', 'address1', 'address2', 'contributorFirstName', 'contributorLastName', 'committeeType', 'orgName', 'contributorMiddleName', 'txnPurpose', 'fefTransaction']\n"
     ]
    }
   ],
   "source": [
    "DATA_FILE = \"contrib_data.csv\"\n",
    "\n",
    "# Download data\n",
    "url = \"https://denver.maplight.com/api/Transaction/SearchContributionTransactions\"\n",
    "payload = {\n",
    "    \"ballotIssue\": None,\n",
    "    \"candidateName\": None,\n",
    "    \"committeeName\": None,\n",
    "    \"committeePosition\": None,\n",
    "    \"contributionsFrom\": None,\n",
    "    \"contributionsFromCityStateCode\": None,\n",
    "    \"contributionsToIds\": [\n",
    "        1\n",
    "    ],\n",
    "    \"electionCycleIds\": [26],\n",
    "    \"isBallotIssue\": False,\n",
    "    \"isCandidate\": True,\n",
    "    \"ballotIssueId\": None,\n",
    "    \"candidateOfficeSoughtId\": None,\n",
    "    \"transactionFromDate\": None,\n",
    "    \"transactionToDate\": None,\n",
    "    \"transactionSubTypeId\": None,\n",
    "    \"pageNum\": 1,\n",
    "    \"pageSize\": 100000\n",
    "}\n",
    "\n",
    "with open(DATA_FILE, \"w\") as contrib_file:\n",
    "    \n",
    "    r = requests.post(url, json=payload)\n",
    "    data = r.json()[\"searchContributionTransactions\"]\n",
    "    keys = list(data[0].keys())\n",
    "    print(keys)\n",
    "    \n",
    "    writer = csv.DictWriter(contrib_file, fieldnames=keys)\n",
    "    writer.writeheader()\n",
    "    writer.writerows(data)"
   ]
  },
  {
   "cell_type": "code",
   "execution_count": 6,
   "id": "4dda9925",
   "metadata": {},
   "outputs": [
    {
     "name": "stdout",
     "output_type": "stream",
     "text": [
      "<class 'pandas.core.frame.DataFrame'>\n",
      "Int64Index: 19413 entries, 48 to 38661\n",
      "Data columns (total 31 columns):\n",
      " #   Column                  Non-Null Count  Dtype  \n",
      "---  ------                  --------------  -----  \n",
      " 0   transactionId           19413 non-null  int64  \n",
      " 1   transactionType         19413 non-null  object \n",
      " 2   transactionSubType      19413 non-null  object \n",
      " 3   recipientName           19413 non-null  object \n",
      " 4   recipientCommitteeName  19413 non-null  object \n",
      " 5   recipientCommitteeId    19413 non-null  int64  \n",
      " 6   officeSought            19413 non-null  object \n",
      " 7   district                0 non-null      float64\n",
      " 8   ballotIssue             0 non-null      float64\n",
      " 9   contributorName         19413 non-null  object \n",
      " 10  contributorId           19413 non-null  int64  \n",
      " 11  amount                  19413 non-null  float64\n",
      " 12  date                    19413 non-null  object \n",
      " 13  contributorEmployer     18387 non-null  object \n",
      " 14  contributorOccupation   19231 non-null  object \n",
      " 15  contributorCity         19411 non-null  object \n",
      " 16  contributorStateCode    19391 non-null  object \n",
      " 17  contactTypeId           19413 non-null  int64  \n",
      " 18  committeeTypeId         19413 non-null  int64  \n",
      " 19  transactionSubTypeId    19413 non-null  int64  \n",
      " 20  filerTypeId             19413 non-null  int64  \n",
      " 21  zipCode                 19407 non-null  object \n",
      " 22  address1                19394 non-null  object \n",
      " 23  address2                1295 non-null   object \n",
      " 24  contributorFirstName    19362 non-null  object \n",
      " 25  contributorLastName     19361 non-null  object \n",
      " 26  committeeType           19413 non-null  object \n",
      " 27  orgName                 51 non-null     object \n",
      " 28  contributorMiddleName   1 non-null      object \n",
      " 29  txnPurpose              259 non-null    object \n",
      " 30  fefTransaction          19413 non-null  bool   \n",
      "dtypes: bool(1), float64(3), int64(7), object(20)\n",
      "memory usage: 4.6+ MB\n"
     ]
    }
   ],
   "source": [
    "df = pd.read_csv(DATA_FILE)\n",
    "\n",
    "mayoral_contribs_df = df[df[\"officeSought\"] == \"Mayor\"]\n",
    "mayoral_contribs_df.to_csv(\"mayoral_contribs.csv\", index=False)\n",
    "\n",
    "mayoral_contribs_df.info()"
   ]
  },
  {
   "cell_type": "code",
   "execution_count": null,
   "id": "a2245d6a",
   "metadata": {},
   "outputs": [],
   "source": []
  }
 ],
 "metadata": {
  "kernelspec": {
   "display_name": "Python 3 (ipykernel)",
   "language": "python",
   "name": "python3"
  },
  "language_info": {
   "codemirror_mode": {
    "name": "ipython",
    "version": 3
   },
   "file_extension": ".py",
   "mimetype": "text/x-python",
   "name": "python",
   "nbconvert_exporter": "python",
   "pygments_lexer": "ipython3",
   "version": "3.9.12"
  }
 },
 "nbformat": 4,
 "nbformat_minor": 5
}
